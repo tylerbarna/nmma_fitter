{
 "cells": [
  {
   "cell_type": "code",
   "execution_count": 1,
   "metadata": {},
   "outputs": [],
   "source": [
    "\n",
    "import argparse\n",
    "import glob\n",
    "import itertools\n",
    "import json\n",
    "import os\n",
    "import sys\n",
    "import time\n",
    "\n",
    "import matplotlib as mpl\n",
    "import matplotlib.dates as dates\n",
    "import matplotlib.pyplot as plt\n",
    "import matplotlib.ticker as ticker\n",
    "import numpy as np\n",
    "import pandas as pd\n",
    "import seaborn as sns\n",
    "\n",
    "from astropy.time import Time\n",
    "from astropy.io import ascii\n",
    "\n",
    "from astropy.visualization import time_support\n",
    "time_support()\n",
    "from astropy.visualization import quantity_support\n",
    "quantity_support()\n",
    "\n",
    "#from scipy.interpolate import make_interp_spline as spline\n",
    "\n",
    "## set plot style\n",
    "plt.style.use(\"seaborn-colorblind\")\n",
    "mpl.rcParams.update({\"axes.grid\" : True})\n",
    "plt.style.context((\"seaborn-colorblind\",));\n",
    "# mpl.rcParams['text.usetex'] = True\n",
    "# mpl.rcParams['text.latex.preamble'] = [r'\\usepackage{amsmath}']"
   ]
  },
  {
   "cell_type": "code",
   "execution_count": 6,
   "metadata": {},
   "outputs": [
    {
     "data": {
      "text/plain": [
       "'/mnt/c/Users/Tyler/Documents/GitHub/nmma_fitter/msiStats'"
      ]
     },
     "execution_count": 6,
     "metadata": {},
     "output_type": "execute_result"
    }
   ],
   "source": [
    "os.getcwd()"
   ]
  },
  {
   "cell_type": "code",
   "execution_count": 28,
   "metadata": {},
   "outputs": [
    {
     "data": {
      "text/html": [
       "<div>\n",
       "<style scoped>\n",
       "    .dataframe tbody tr th:only-of-type {\n",
       "        vertical-align: middle;\n",
       "    }\n",
       "\n",
       "    .dataframe tbody tr th {\n",
       "        vertical-align: top;\n",
       "    }\n",
       "\n",
       "    .dataframe thead th {\n",
       "        text-align: right;\n",
       "    }\n",
       "</style>\n",
       "<table border=\"1\" class=\"dataframe\">\n",
       "  <thead>\n",
       "    <tr style=\"text-align: right;\">\n",
       "      <th></th>\n",
       "      <th>Name</th>\n",
       "      <th>IssueType</th>\n",
       "      <th>Date</th>\n",
       "      <th>Weather</th>\n",
       "      <th>Observed</th>\n",
       "      <th>Removed</th>\n",
       "      <th>Notes</th>\n",
       "      <th>DataToIPAC</th>\n",
       "      <th>IssueCuts</th>\n",
       "      <th>datetime</th>\n",
       "    </tr>\n",
       "  </thead>\n",
       "  <tbody>\n",
       "    <tr>\n",
       "      <th>0</th>\n",
       "      <td>Entry</td>\n",
       "      <td>instrument</td>\n",
       "      <td>2021-08-04</td>\n",
       "      <td>None</td>\n",
       "      <td>False</td>\n",
       "      <td>False</td>\n",
       "      <td>Thermal runaway</td>\n",
       "      <td>False</td>\n",
       "      <td>{'RCid': {}, 'Filter': {}, 'Other': {}}</td>\n",
       "      <td>2021-08-04</td>\n",
       "    </tr>\n",
       "    <tr>\n",
       "      <th>1</th>\n",
       "      <td>Entry</td>\n",
       "      <td>instrument</td>\n",
       "      <td>2021-08-06</td>\n",
       "      <td>None</td>\n",
       "      <td>False</td>\n",
       "      <td>False</td>\n",
       "      <td>Dome never opened, telescope not initialized</td>\n",
       "      <td>False</td>\n",
       "      <td>{'RCid': {}, 'Filter': {}, 'Other': {}}</td>\n",
       "      <td>2021-08-06</td>\n",
       "    </tr>\n",
       "    <tr>\n",
       "      <th>2</th>\n",
       "      <td>Entry</td>\n",
       "      <td>maintenance</td>\n",
       "      <td>2021-08-10</td>\n",
       "      <td>None</td>\n",
       "      <td>True</td>\n",
       "      <td>False</td>\n",
       "      <td>P48 observing floor clean-up/look over on cryo...</td>\n",
       "      <td>True</td>\n",
       "      <td>{'RCid': {}, 'Filter': {}, 'Other': {}}</td>\n",
       "      <td>2021-08-10</td>\n",
       "    </tr>\n",
       "    <tr>\n",
       "      <th>3</th>\n",
       "      <td>Entry</td>\n",
       "      <td>maintenance</td>\n",
       "      <td>2021-08-25</td>\n",
       "      <td>None</td>\n",
       "      <td>True</td>\n",
       "      <td>False</td>\n",
       "      <td>Corrector cleaning</td>\n",
       "      <td>True</td>\n",
       "      <td>{'RCid': {}, 'Filter': {}, 'Other': {}}</td>\n",
       "      <td>2021-08-25</td>\n",
       "    </tr>\n",
       "    <tr>\n",
       "      <th>4</th>\n",
       "      <td>Entry</td>\n",
       "      <td>instrument</td>\n",
       "      <td>2021-09-28</td>\n",
       "      <td>None</td>\n",
       "      <td>False</td>\n",
       "      <td>False</td>\n",
       "      <td>Shutter problems; Corrector cleaning</td>\n",
       "      <td>False</td>\n",
       "      <td>{'RCid': {}, 'Filter': {}, 'Other': {}}</td>\n",
       "      <td>2021-09-28</td>\n",
       "    </tr>\n",
       "  </tbody>\n",
       "</table>\n",
       "</div>"
      ],
      "text/plain": [
       "    Name    IssueType       Date Weather Observed Removed  \\\n",
       "0  Entry   instrument 2021-08-04    None    False   False   \n",
       "1  Entry   instrument 2021-08-06    None    False   False   \n",
       "2  Entry  maintenance 2021-08-10    None     True   False   \n",
       "3  Entry  maintenance 2021-08-25    None     True   False   \n",
       "4  Entry   instrument 2021-09-28    None    False   False   \n",
       "\n",
       "                                               Notes DataToIPAC  \\\n",
       "0                                    Thermal runaway      False   \n",
       "1       Dome never opened, telescope not initialized      False   \n",
       "2  P48 observing floor clean-up/look over on cryo...       True   \n",
       "3                                 Corrector cleaning       True   \n",
       "4               Shutter problems; Corrector cleaning      False   \n",
       "\n",
       "                                 IssueCuts   datetime  \n",
       "0  {'RCid': {}, 'Filter': {}, 'Other': {}} 2021-08-04  \n",
       "1  {'RCid': {}, 'Filter': {}, 'Other': {}} 2021-08-06  \n",
       "2  {'RCid': {}, 'Filter': {}, 'Other': {}} 2021-08-10  \n",
       "3  {'RCid': {}, 'Filter': {}, 'Other': {}} 2021-08-25  \n",
       "4  {'RCid': {}, 'Filter': {}, 'Other': {}} 2021-09-28  "
      ]
     },
     "metadata": {},
     "output_type": "display_data"
    }
   ],
   "source": [
    "with open('ztf_observation_log.json','r') as f:\n",
    "    data = json.load(f)['Entries']\n",
    "data= pd.DataFrame(data)\n",
    "df = data.drop(data.index[0]).reset_index(drop=True)\n",
    "\n",
    "df.loc[:, 'Date'] = (df.Date.map(lambda x: x[0])).astype(np.datetime64)\n",
    "df['datetime'] = pd.to_datetime(df['Date'], format='%Y-%m-%d')\n",
    "df = df[df['Date'] > '2021-05-31'].reset_index(drop=True)\n",
    "#df['Date'] = pd.to_datetime(df['Date']).astype(np.datetime64)\n",
    "display(df.head())\n"
   ]
  },
  {
   "cell_type": "code",
   "execution_count": 30,
   "metadata": {},
   "outputs": [
    {
     "data": {
      "image/png": "[encoded data removed]",
      "text/plain": [
       "<Figure size 1000x500 with 1 Axes>"
      ]
     },
     "metadata": {},
     "output_type": "display_data"
    }
   ],
   "source": [
    "fig, ax = plt.subplots(figsize=(10, 5))\n",
    "plot = sns.barplot(data=df, x='Date', y=df['Observed']-1, \n",
    "            color='white',ax=ax)\n",
    "for ind, label in enumerate(ax.get_xticklabels()):\n",
    "    if ind % 13 == 0:  # every 10th label is kept\n",
    "        label.set_visible(True)\n",
    "    else:\n",
    "        label.set_visible(False)\n",
    "ax.axvspan(df.index[0], df.index[-1], facecolor='red', alpha=1,zorder=0)\n",
    "ax.set_ylim(0, -1)\n",
    "plt.xticks(rotation=15)\n",
    "plt.show();"
   ]
  },
  {
   "cell_type": "code",
   "execution_count": 27,
   "metadata": {},
   "outputs": [
    {
     "data": {
      "text/plain": [
       "<matplotlib.patches.Polygon at 0x7f7e3cb35660>"
      ]
     },
     "execution_count": 27,
     "metadata": {},
     "output_type": "execute_result"
    },
    {
     "data": {
      "image/png": "[encoded data removed]",
      "text/plain": [
       "<Figure size 640x480 with 1 Axes>"
      ]
     },
     "metadata": {},
     "output_type": "display_data"
    }
   ],
   "source": [
    "plt.axvspan(1, np.nan)"
   ]
  }
 ],
 "metadata": {
  "kernelspec": {
   "display_name": "Python 3.10.5 ('nmma')",
   "language": "python",
   "name": "python3"
  },
  "language_info": {
   "codemirror_mode": {
    "name": "ipython",
    "version": 3
   },
   "file_extension": ".py",
   "mimetype": "text/x-python",
   "name": "python",
   "nbconvert_exporter": "python",
   "pygments_lexer": "ipython3",
   "version": "3.10.5"
  },
  "orig_nbformat": 4,
  "vscode": {
   "interpreter": {
    "hash": "87f9e8a5357ed8d015198ad4a51f436d9bda07585e7c1ebd44b0a845b71fd0ec"
   }
  }
 },
 "nbformat": 4,
 "nbformat_minor": 2
}
